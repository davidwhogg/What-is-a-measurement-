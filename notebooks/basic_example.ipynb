{
 "cells": [
  {
   "cell_type": "markdown",
   "id": "85255b1c-77b4-4b9c-b731-ebbd09d0adf7",
   "metadata": {},
   "source": [
    "# Basic Example\n",
    "Make a basic likelihood (and posterior) example for *What is a Measurement?*\n",
    "\n",
    "## Author:\n",
    "- **David W. Hogg** (NYU) (MPIA) (Flatiron)\n",
    "\n",
    "## Notes:\n",
    "- This is part of the *What is a Measurement?* project. Copyright the author."
   ]
  },
  {
   "cell_type": "code",
   "execution_count": null,
   "id": "d21b9671-e1e0-4cfc-8d3f-98f2c4da7fee",
   "metadata": {},
   "outputs": [],
   "source": [
    "import numpy as np\n",
    "import pylab as plt\n",
    "import scipy.optimize as op"
   ]
  },
  {
   "cell_type": "code",
   "execution_count": null,
   "id": "f91b70bd-6e47-4dc2-a095-294410931e9a",
   "metadata": {},
   "outputs": [],
   "source": [
    "N = 16\n",
    "\n",
    "def expectation(ts, pars):\n",
    "    om, amp, phi, y0 = pars\n",
    "    return y0 + amp * np.cos(om * ts + phi)\n",
    "\n",
    "def make_fake_data(seed=17):\n",
    "    rng = np.random.default_rng(seed)\n",
    "    ts = np.sort(7. * rng.uniform(size=N))\n",
    "    ivars = 1. + 4. * rng.uniform(size=N)\n",
    "    omega = 0.5 + 3. * rng.uniform()\n",
    "    amp = 1. + rng.uniform()\n",
    "    phi = 2. * np.pi * rng.uniform()\n",
    "    y0 = 2. + 2. * rng.uniform()\n",
    "    truepars = np.array((omega, amp, phi, y0))\n",
    "    return ts, expectation(ts, truepars) + rng.normal(size=N) / np.sqrt(ivars), ivars, truepars"
   ]
  },
  {
   "cell_type": "code",
   "execution_count": null,
   "id": "e460b078-792f-4284-a91d-9e16d15a4795",
   "metadata": {},
   "outputs": [],
   "source": [
    "ts, ys, ivars, true_pars = make_fake_data()\n",
    "print(ts.shape, ys.shape, true_pars)"
   ]
  },
  {
   "cell_type": "code",
   "execution_count": null,
   "id": "91f142ca-c843-49c8-80cc-b85c5c48fd99",
   "metadata": {},
   "outputs": [],
   "source": [
    "def plot(ts, ys, ivars, true_pars, ml_pars, title):\n",
    "    plt.errorbar(ts, ys, yerr=1./np.sqrt(ivars), fmt=\"ko\")\n",
    "    plot_ts = np.linspace(0., 7., 1000)\n",
    "    if true_pars is not None:\n",
    "        plt.plot(plot_ts, expectation(plot_ts, true_pars), \"r-\", lw=1, alpha=0.45)\n",
    "    if ml_pars is not None:\n",
    "        plt.plot(plot_ts, expectation(plot_ts, ml_pars), \"r-\", lw=2, alpha=0.9)\n",
    "    plt.xlabel(\"time\")\n",
    "    plt.ylabel(\"data value\")\n",
    "    plt.title(title)\n",
    "\n",
    "plot(ts, ys, ivars, true_pars, None, \"data and true expectation\")"
   ]
  },
  {
   "cell_type": "code",
   "execution_count": null,
   "id": "d160970c-1bf7-4850-af44-e57bdc604c6d",
   "metadata": {},
   "outputs": [],
   "source": [
    "def negative_log_likelihood(pars, ts, ys, ivars):\n",
    "    return 0.5 * np.sum(ivars * (ys - expectation(ts, pars)) ** 2)"
   ]
  },
  {
   "cell_type": "code",
   "execution_count": null,
   "id": "1d22c031-606f-4464-aa03-67bd8f27b2cb",
   "metadata": {},
   "outputs": [],
   "source": [
    "res = op.minimize(negative_log_likelihood, true_pars, args=(ts, ys, ivars))\n",
    "print(res)\n",
    "ml_pars = np.zeros(4) + np.nan\n",
    "if res.success:\n",
    "    ml_pars = res.x\n",
    "print(ml_pars)"
   ]
  },
  {
   "cell_type": "code",
   "execution_count": null,
   "id": "d90c26f6-5cf7-4af9-a83a-4475803b46bc",
   "metadata": {},
   "outputs": [],
   "source": [
    "plot(ts, ys, ivars, true_pars, ml_pars,\n",
    "     \"data, true expectation, and maximum-likelihood expectation\")"
   ]
  },
  {
   "cell_type": "code",
   "execution_count": null,
   "id": "59d517d8-e9ed-483d-8d7a-7ac4f3a5117e",
   "metadata": {},
   "outputs": [],
   "source": [
    "def negative_partial_log_likelihood(al, om, ts, ys, ivars):\n",
    "    pars = np.append(om, al)\n",
    "    return 0.5 * np.sum(ivars * (ys - expectation(ts, pars)) ** 2)\n",
    "\n",
    "def negative_profile_log_likelihood(om, ts, ys, ivars, guess):\n",
    "    res = op.minimize(negative_partial_log_likelihood, guess, args=(om, ts, ys, ivars))\n",
    "    if res.success:\n",
    "        return res.fun\n",
    "    return np.nan"
   ]
  },
  {
   "cell_type": "code",
   "execution_count": null,
   "id": "871957e5-b58e-4c7e-8c94-9b2089040692",
   "metadata": {},
   "outputs": [],
   "source": [
    "oms = np.linspace(0.5, 3.5, 100)\n",
    "plls = np.array([negative_profile_log_likelihood(om, ts, ys, ivars, true_pars[1:]) for om in oms])\n",
    "print(plls.shape)"
   ]
  },
  {
   "cell_type": "code",
   "execution_count": null,
   "id": "49c79f1c-4ce9-4c22-a2a8-3b5acb8c8d38",
   "metadata": {},
   "outputs": [],
   "source": [
    "plt.plot(oms, -1. * plls, \"k-\")\n",
    "plt.axvline(true_pars[0], c=\"r\", lw=1, alpha=0.45)\n",
    "plt.axvline(ml_pars[0], c=\"r\", lw=2, alpha=0.9)\n",
    "plt.xlabel(\"angular frequency\")\n",
    "plt.ylabel(\"profile log likelihood\")"
   ]
  },
  {
   "cell_type": "code",
   "execution_count": null,
   "id": "0855cc24-edee-4673-896d-b10f2b225a83",
   "metadata": {},
   "outputs": [],
   "source": [
    "n_trials = 128\n",
    "many_true_pars = np.zeros((n_trials, 4)) + np.nan\n",
    "many_ml_pars = np.zeros((n_trials, 4)) + np.nan\n",
    "for trial in range(n_trials):\n",
    "    ts, ys, ivars, tp = make_fake_data(seed=trial)\n",
    "    many_true_pars[trial] = tp\n",
    "    res = op.minimize(negative_log_likelihood, tp, args=(ts, ys, ivars))\n",
    "    if res.success:\n",
    "        many_ml_pars[trial] = res.x\n",
    "print(np.sum(np.isnan(many_ml_pars[:, 0])))"
   ]
  },
  {
   "cell_type": "code",
   "execution_count": null,
   "id": "c4488064-f572-4688-8ab7-6a911d7bd479",
   "metadata": {
    "scrolled": true
   },
   "outputs": [],
   "source": [
    "plt.plot([-10, 10], [-10, 10], \"k-\", alpha=0.45)\n",
    "plt.scatter(many_true_pars[:,0], many_ml_pars[:,0], s=3, c=\"k\", alpha=0.9)\n",
    "plt.axis(\"equal\")\n",
    "plt.xlim(0.5, 3.5)\n",
    "plt.ylim(0.5, 3.5)\n",
    "plt.xlabel(\"true angular frequency\")\n",
    "plt.ylabel(\"maximum-likelihood angular frequency\")"
   ]
  },
  {
   "cell_type": "code",
   "execution_count": null,
   "id": "8017aa5a-7460-4c48-b180-415d69220f1a",
   "metadata": {},
   "outputs": [],
   "source": []
  }
 ],
 "metadata": {
  "kernelspec": {
   "display_name": "Python 3 (ipykernel)",
   "language": "python",
   "name": "python3"
  },
  "language_info": {
   "codemirror_mode": {
    "name": "ipython",
    "version": 3
   },
   "file_extension": ".py",
   "mimetype": "text/x-python",
   "name": "python",
   "nbconvert_exporter": "python",
   "pygments_lexer": "ipython3",
   "version": "3.9.6"
  }
 },
 "nbformat": 4,
 "nbformat_minor": 5
}
