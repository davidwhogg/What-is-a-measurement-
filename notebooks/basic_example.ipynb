{
 "cells": [
  {
   "cell_type": "markdown",
   "id": "85255b1c-77b4-4b9c-b731-ebbd09d0adf7",
   "metadata": {},
   "source": [
    "# Basic Example\n",
    "Make a basic likelihood (and posterior) example for *What is a Measurement?*\n",
    "\n",
    "## Author:\n",
    "- **David W. Hogg** (NYU) (MPIA) (Flatiron)\n",
    "\n",
    "## Notes:\n",
    "- This is part of the *What is a Measurement?* project. Copyright the author.\n",
    "\n",
    "## Bugs:\n",
    "- Global variables `N` and `prior_bounds`.\n",
    "- The number of parameters (4) hard-coded all over the place."
   ]
  },
  {
   "cell_type": "code",
   "execution_count": null,
   "id": "d21b9671-e1e0-4cfc-8d3f-98f2c4da7fee",
   "metadata": {},
   "outputs": [],
   "source": [
    "import numpy as np\n",
    "import pylab as plt\n",
    "import matplotlib as mpl\n",
    "import scipy.optimize as op\n",
    "import emcee"
   ]
  },
  {
   "cell_type": "code",
   "execution_count": null,
   "id": "0b1b6b5c-b166-4567-bee9-f17976207e8f",
   "metadata": {},
   "outputs": [],
   "source": [
    "mpl.rcParams['figure.figsize'] = [3.0, 3.0]"
   ]
  },
  {
   "cell_type": "code",
   "execution_count": null,
   "id": "f91b70bd-6e47-4dc2-a095-294410931e9a",
   "metadata": {},
   "outputs": [],
   "source": [
    "N = 16\n",
    "prior_bounds = np.array([[1., 3.], [1., 2.], [0., 2. * np.pi], [2., 4.]])\n",
    "\n",
    "def expectation(ts, pars):\n",
    "    om, amp, phi, y0 = pars\n",
    "    return y0 + amp * np.cos(om * ts + phi)\n",
    "\n",
    "def make_fake_data(seed=17):\n",
    "    rng = np.random.default_rng(seed)\n",
    "    ts = np.sort(7. * rng.uniform(size=N))\n",
    "    ivars = 0.5 + 0.5 * rng.uniform(size=N)\n",
    "    truepars = np.zeros(4) + np.nan\n",
    "    for i in range(4):\n",
    "        truepars[i] = rng.uniform(low=prior_bounds[i,0],\n",
    "                                  high=prior_bounds[i,1])\n",
    "    return ts, expectation(ts, truepars) + rng.normal(size=N) / np.sqrt(ivars), ivars, truepars"
   ]
  },
  {
   "cell_type": "code",
   "execution_count": null,
   "id": "e460b078-792f-4284-a91d-9e16d15a4795",
   "metadata": {},
   "outputs": [],
   "source": [
    "ts, ys, ivars, true_pars = make_fake_data()\n",
    "print(ts.shape, ys.shape, true_pars)"
   ]
  },
  {
   "cell_type": "code",
   "execution_count": null,
   "id": "91f142ca-c843-49c8-80cc-b85c5c48fd99",
   "metadata": {},
   "outputs": [],
   "source": [
    "def plot(ts, ys, ivars, true_pars, ml_pars, samples, title):\n",
    "    plt.errorbar(ts, ys, yerr=1./np.sqrt(ivars), fmt=\"ko\")\n",
    "    plot_ts = np.linspace(0., 7., 1000)\n",
    "    if samples is not None:\n",
    "        for sample in samples:\n",
    "            plt.plot(plot_ts, expectation(plot_ts, sample), \"r-\", lw=1, alpha=0.45)\n",
    "    if true_pars is not None:\n",
    "        plt.plot(plot_ts, expectation(plot_ts, true_pars), \"b-\", lw=1, alpha=0.45)\n",
    "    if ml_pars is not None:\n",
    "        plt.plot(plot_ts, expectation(plot_ts, ml_pars), \"r-\", lw=2, alpha=0.9)\n",
    "    plt.xlabel(\"time\")\n",
    "    plt.ylabel(\"data value\")\n",
    "    plt.title(title)\n",
    "\n",
    "plot(ts, ys, ivars, true_pars, None, None, \"data and true expectation\")"
   ]
  },
  {
   "cell_type": "code",
   "execution_count": null,
   "id": "d160970c-1bf7-4850-af44-e57bdc604c6d",
   "metadata": {},
   "outputs": [],
   "source": [
    "def negative_log_likelihood(pars, ts, ys, ivars):\n",
    "    return 0.5 * np.sum(ivars * (ys - expectation(ts, pars)) ** 2)"
   ]
  },
  {
   "cell_type": "code",
   "execution_count": null,
   "id": "1d22c031-606f-4464-aa03-67bd8f27b2cb",
   "metadata": {},
   "outputs": [],
   "source": [
    "res = op.minimize(negative_log_likelihood, true_pars, args=(ts, ys, ivars))\n",
    "print(res)\n",
    "ml_pars = np.zeros(4) + np.nan\n",
    "ml_pars_covar = np.zeros((4,4)) + np.nan\n",
    "if res.success:\n",
    "    ml_pars = res.x\n",
    "    ml_pars_covar = res.hess_inv\n",
    "print(ml_pars)"
   ]
  },
  {
   "cell_type": "code",
   "execution_count": null,
   "id": "d90c26f6-5cf7-4af9-a83a-4475803b46bc",
   "metadata": {},
   "outputs": [],
   "source": [
    "plot(ts, ys, ivars, true_pars, ml_pars, None,\n",
    "     \"maximum likelihood\")"
   ]
  },
  {
   "cell_type": "code",
   "execution_count": null,
   "id": "59d517d8-e9ed-483d-8d7a-7ac4f3a5117e",
   "metadata": {},
   "outputs": [],
   "source": [
    "def negative_partial_log_likelihood(al, om, ts, ys, ivars):\n",
    "    pars = np.append(om, al)\n",
    "    return 0.5 * np.sum(ivars * (ys - expectation(ts, pars)) ** 2)\n",
    "\n",
    "def negative_profile_log_likelihood(om, ts, ys, ivars, guess):\n",
    "    res = op.minimize(negative_partial_log_likelihood, guess, args=(om, ts, ys, ivars))\n",
    "    if res.success:\n",
    "        return res.fun\n",
    "    return np.nan"
   ]
  },
  {
   "cell_type": "code",
   "execution_count": null,
   "id": "871957e5-b58e-4c7e-8c94-9b2089040692",
   "metadata": {},
   "outputs": [],
   "source": [
    "oms = np.linspace(0.5, 3.5, 100)\n",
    "plls = np.array([negative_profile_log_likelihood(om, ts, ys, ivars, true_pars[1:]) for om in oms])\n",
    "print(plls.shape)"
   ]
  },
  {
   "cell_type": "code",
   "execution_count": null,
   "id": "49c79f1c-4ce9-4c22-a2a8-3b5acb8c8d38",
   "metadata": {},
   "outputs": [],
   "source": [
    "plt.plot(oms, -1. * plls, \"k-\")\n",
    "plt.axvline(true_pars[0], c=\"b\", lw=1, alpha=0.45)\n",
    "plt.axvline(ml_pars[0], c=\"r\", lw=2, alpha=0.9)\n",
    "ylim = plt.ylim()\n",
    "plt.fill_betweenx(ylim, [ml_pars[0] - np.sqrt(ml_pars_covar[0,0])] * 2,\n",
    "                        [ml_pars[0] + np.sqrt(ml_pars_covar[0,0])] * 2,\n",
    "                 color=\"r\", alpha=0.20)\n",
    "plt.ylim(ylim)\n",
    "plt.xlabel(\"angular frequency\")\n",
    "plt.ylabel(\"log likelihood (plus offset)\")\n",
    "plt.title(\"profile log likelihood\")"
   ]
  },
  {
   "cell_type": "code",
   "execution_count": null,
   "id": "0855cc24-edee-4673-896d-b10f2b225a83",
   "metadata": {},
   "outputs": [],
   "source": [
    "ntrial = 64\n",
    "many_true_pars = np.zeros((ntrial, 4)) + np.nan\n",
    "many_ml_pars = np.zeros((ntrial, 4)) + np.nan\n",
    "many_ml_pars_covar = np.zeros((ntrial, 4, 4)) + np.nan\n",
    "for trial in range(ntrial):\n",
    "    ts, ys, ivars, tp = make_fake_data(seed=trial)\n",
    "    many_true_pars[trial] = tp\n",
    "    res = op.minimize(negative_log_likelihood, tp, args=(ts, ys, ivars))\n",
    "    if res.success:\n",
    "        many_ml_pars[trial] = res.x\n",
    "        many_ml_pars_covar[trial] = res.hess_inv\n",
    "print(np.sum(np.isnan(many_ml_pars[:, 0])))"
   ]
  },
  {
   "cell_type": "code",
   "execution_count": null,
   "id": "c4488064-f572-4688-8ab7-6a911d7bd479",
   "metadata": {
    "scrolled": true
   },
   "outputs": [],
   "source": [
    "plt.plot([-10, 10], [-10, 10], \"k-\", alpha=0.45)\n",
    "plt.errorbar(many_true_pars[:,0], many_ml_pars[:,0],\n",
    "             yerr=np.sqrt(many_ml_pars_covar[:,0,0]), fmt=\"k.\",\n",
    "             alpha=0.9)\n",
    "plt.axis(\"equal\")\n",
    "plt.xlim(0.5, 3.5)\n",
    "plt.ylim(0.5, 3.5)\n",
    "plt.xlabel(\"true angular frequency\")\n",
    "plt.ylabel(\"maximum-likelihood frequency\")\n",
    "plt.title(\"maximum likelihood is unbiased\")"
   ]
  },
  {
   "cell_type": "code",
   "execution_count": null,
   "id": "95fed91a-dae5-4c3b-9eea-e28f67245462",
   "metadata": {},
   "outputs": [],
   "source": [
    "def log_prior(pars):\n",
    "    for i in range(4):\n",
    "        if pars[i] < prior_bounds[i, 0]:\n",
    "            return -np.Inf\n",
    "        if pars[i] > prior_bounds[i, 1]:\n",
    "            return -np.Inf\n",
    "    return 0.\n",
    "\n",
    "def log_posterior(pars, ts, ys, ivars):\n",
    "    lnpi = log_prior(pars)\n",
    "    if np.isfinite(lnpi):\n",
    "        return lnpi - negative_log_likelihood(pars, ts, ys, ivars)\n",
    "    return lnpi"
   ]
  },
  {
   "cell_type": "code",
   "execution_count": null,
   "id": "22ebecf0-6422-4d09-b481-5b74a3178c28",
   "metadata": {},
   "outputs": [],
   "source": [
    "def sample_one_trial(seed, return_everything=False):\n",
    "    print(\"sample_one_trial():\", seed)\n",
    "    ts, ys, ivars, tp = make_fake_data(seed=seed)\n",
    "    ndim, nwalkers = 4, 20\n",
    "    p0 = tp + 0.01 * np.random.randn(nwalkers, ndim)\n",
    "    sampler = emcee.EnsembleSampler(nwalkers, ndim, log_posterior, args=[ts, ys, ivars])\n",
    "    # burn in\n",
    "    sampler.run_mcmc(p0, 6000)\n",
    "    p0 = (sampler.get_chain())[-1]\n",
    "    # print(\"sample_one_trial(): number of bad values\", np.sum(np.logical_not(np.isfinite(p0))))\n",
    "    # do final run\n",
    "    sampler.run_mcmc(p0, 50)\n",
    "    ps = sampler.get_chain(flat=True)\n",
    "    # get statistics\n",
    "    posterior_mean = np.mean(ps, axis=0)\n",
    "    dp = ps - posterior_mean[None, :]\n",
    "    posterior_covar = np.mean(dp[:, :, None] * dp[:, None, :], axis=0)\n",
    "    if return_everything:\n",
    "        return tp, posterior_mean, posterior_covar, ts, ys, ivars, ps\n",
    "    return tp, posterior_mean, posterior_covar"
   ]
  },
  {
   "cell_type": "code",
   "execution_count": null,
   "id": "d417a36b-a93a-4f42-b3be-23c0bfd96e04",
   "metadata": {},
   "outputs": [],
   "source": [
    "true_pars2, post_pars, post_pars_covar, ts, ys, ivars, post_samples = sample_one_trial(17, return_everything=True)\n",
    "print(post_pars.shape, post_pars_covar.shape, post_samples.shape)"
   ]
  },
  {
   "cell_type": "code",
   "execution_count": null,
   "id": "8f49ee82-130c-405e-aa98-3c3f6298c774",
   "metadata": {},
   "outputs": [],
   "source": [
    "plot(ts, ys, ivars, true_pars2, None, post_samples[:12],\n",
    "     \"posterior samples\")"
   ]
  },
  {
   "cell_type": "code",
   "execution_count": null,
   "id": "816ac289-8e78-4c92-96b6-61cb674fbbe6",
   "metadata": {},
   "outputs": [],
   "source": [
    "many_true_pars2 = np.zeros((ntrial, 4)) + np.nan\n",
    "many_post_pars = np.zeros((ntrial, 4)) + np.nan\n",
    "many_post_pars_covar = np.zeros((ntrial, 4, 4)) + np.nan\n",
    "for trial in range(ntrial):\n",
    "    many_true_pars2[trial], many_post_pars[trial], many_post_pars_covar[trial] = sample_one_trial(trial)"
   ]
  },
  {
   "cell_type": "code",
   "execution_count": null,
   "id": "c4dffca0-b5cf-4c4e-ae9f-63fcee7b5a4a",
   "metadata": {},
   "outputs": [],
   "source": [
    "plt.plot([-10, 10], [-10, 10], \"k-\", alpha=0.45)\n",
    "plt.errorbar(many_true_pars2[:,0], many_post_pars[:,0],\n",
    "             yerr=np.sqrt(many_post_pars_covar[:,0,0]), fmt=\"k.\",\n",
    "             alpha=0.9)\n",
    "plt.axis(\"equal\")\n",
    "plt.xlim(0.5, 3.5)\n",
    "plt.ylim(0.5, 3.5)\n",
    "plt.xlabel(\"true angular frequency\")\n",
    "plt.ylabel(\"posterior mean frequency\")\n",
    "plt.title(\"posterior inference is biased\")"
   ]
  },
  {
   "cell_type": "code",
   "execution_count": null,
   "id": "2ca3824d-8bdc-4e25-9c87-91fd0b8db4ce",
   "metadata": {},
   "outputs": [],
   "source": []
  }
 ],
 "metadata": {
  "kernelspec": {
   "display_name": "Python 3 (ipykernel)",
   "language": "python",
   "name": "python3"
  },
  "language_info": {
   "codemirror_mode": {
    "name": "ipython",
    "version": 3
   },
   "file_extension": ".py",
   "mimetype": "text/x-python",
   "name": "python",
   "nbconvert_exporter": "python",
   "pygments_lexer": "ipython3",
   "version": "3.9.6"
  }
 },
 "nbformat": 4,
 "nbformat_minor": 5
}
