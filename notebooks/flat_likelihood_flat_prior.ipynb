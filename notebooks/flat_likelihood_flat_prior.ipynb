{
 "cells": [
  {
   "cell_type": "markdown",
   "id": "9c85c2c4-4899-42a9-99f1-29e77577b553",
   "metadata": {},
   "source": [
    "# Flat Likelihood, Flat Prior\n",
    "*by* **David W. Hogg** (NYU) (MPIA) (Flatiron)\n",
    "\n",
    "## Goals:\n",
    "Demonstrate that you can have a peak in your posterior even when your likelihood has no peak, and your priors are flat.\n",
    "\n",
    "## To-do:\n",
    "- Make publication-worthy plots.\n",
    "- Write up correctly in the document."
   ]
  },
  {
   "cell_type": "code",
   "execution_count": null,
   "id": "7bbda5a6-1207-496e-88d2-aecaa7ff8cdc",
   "metadata": {},
   "outputs": [],
   "source": [
    "import numpy as np\n",
    "from scipy.special import logsumexp\n",
    "import pylab as plt\n",
    "import emcee\n",
    "import corner\n",
    "RNG = np.random.default_rng(17)\n",
    "plt.rcParams.update({\n",
    "    \"text.usetex\": True,\n",
    "    \"figure.figsize\": (2, 2),\n",
    "})"
   ]
  },
  {
   "cell_type": "code",
   "execution_count": null,
   "id": "5fd677a9-ed03-4a02-8c3b-d9bcef79b742",
   "metadata": {},
   "outputs": [],
   "source": [
    "N, P, Q = 12, 8, 2"
   ]
  },
  {
   "cell_type": "code",
   "execution_count": null,
   "id": "c44daa0d-a92a-4130-9e77-2dc44ebae228",
   "metadata": {},
   "outputs": [],
   "source": [
    "def design_matrix(n, p, q, rng=RNG):\n",
    "    assert q <= p < n\n",
    "    return (rng.integers(-4, 4, size=(n, q)) @ rng.integers(-4, 4, size=(q, p))).astype(float)\n",
    "\n",
    "def log_like(a, X, ys, ivars):\n",
    "    resids = ys - X @ a\n",
    "    return -0.5 * resids @ (ivars * resids)\n",
    "\n",
    "def wls(X, ys, ivars):\n",
    "    return np.linalg.lstsq(X.T @ (ivars[:, None] * X), X.T @ (ivars * ys), rcond=None)[0]\n",
    "\n",
    "def log_profile_like(ai, i, X, ys, ivars):\n",
    "    Xi = np.delete(X, (i), axis=1)\n",
    "    a_hat = wls(Xi, ys - X[:, i] * ai, ivars)\n",
    "    a = np.insert(a_hat, i, ai)\n",
    "    return log_like(a, X, ys, ivars)\n",
    "\n",
    "PRIOR_LIMITS = np.zeros((P, 2))\n",
    "PRIOR_LIMITS[:, 0] = -5.\n",
    "PRIOR_LIMITS[:, 1] = 5.\n",
    "PRIOR_LIMITS[0] = -16., 16.\n",
    "def log_prior(a):\n",
    "    if np.any(a < PRIOR_LIMITS[:, 0]):\n",
    "        return -np.Inf\n",
    "    if np.any(a > PRIOR_LIMITS[:, 1]):\n",
    "        return -np.Inf\n",
    "    return 0.\n",
    "\n",
    "def log_post(a, X, ys, ivars):\n",
    "    lnpi = log_prior(a)\n",
    "    if np.isfinite(lnpi):\n",
    "        return lnpi + log_like(a, X, ys, ivars)\n",
    "    else:\n",
    "        return -np.Inf\n",
    "\n",
    "def mh_mcmc_step(log_post, a, proposal, X, ys, ivars, rng=RNG):\n",
    "    a_new = a + proposal * rng.normal(size=a.shape)\n",
    "    lr = np.log(rng.uniform())\n",
    "    if log_post(a_new, X, ys, ivars) - log_post(a, X, ys, ivars) > lr:\n",
    "        return a_new\n",
    "    else:\n",
    "        return a"
   ]
  },
  {
   "cell_type": "code",
   "execution_count": null,
   "id": "4c7a7fbe-912c-4b95-8c64-d0dc06023f76",
   "metadata": {},
   "outputs": [],
   "source": [
    "# make and check design matrix\n",
    "X = design_matrix(N, P, Q)\n",
    "print(X.shape)\n",
    "u, s, v = np.linalg.svd(X)\n",
    "print(s)"
   ]
  },
  {
   "cell_type": "code",
   "execution_count": null,
   "id": "15a309a9-ecb7-4ad3-bcc2-3b4367f367f4",
   "metadata": {},
   "outputs": [],
   "source": [
    "# print design matrix in latex format\n",
    "print(r\"X = \\begin{bmatrix}\")\n",
    "for x in X:\n",
    "    print(\" & \".join((r\"{:3.0f}.\".format(xx) for xx in x)) + r\" \\\\\")\n",
    "print(r\"\\end{bmatrix}\")"
   ]
  },
  {
   "cell_type": "code",
   "execution_count": null,
   "id": "84c66024-899d-4483-91ae-38b543f11781",
   "metadata": {},
   "outputs": [],
   "source": [
    "a_true = RNG.normal(size=P)\n",
    "ys_true = X @ a_true\n",
    "ivars = 100. * np.ones_like(ys_true)\n",
    "ys = ys_true + RNG.normal(size=N) / np.sqrt(ivars)"
   ]
  },
  {
   "cell_type": "code",
   "execution_count": null,
   "id": "47e2e682-ddd3-4ed4-9436-33b03a4051b0",
   "metadata": {},
   "outputs": [],
   "source": [
    "a_hat = wls(X, ys, ivars)\n",
    "np.linalg.cond(X.T @ (ivars[:, None] * X))"
   ]
  },
  {
   "cell_type": "code",
   "execution_count": null,
   "id": "2e529657-ab2b-40df-ae5a-499aecc51073",
   "metadata": {},
   "outputs": [],
   "source": [
    "plt.errorbar(np.arange(N), ys, yerr=1/np.sqrt(ivars), color=\"k\", fmt=\"o\")\n",
    "plt.errorbar(np.arange(N), X @ a_hat, color=\"r\", fmt=\"o\", mfc=\"none\")"
   ]
  },
  {
   "cell_type": "code",
   "execution_count": null,
   "id": "9bc493f0-2955-4028-84c7-0874c2ef601b",
   "metadata": {},
   "outputs": [],
   "source": [
    "# make and plot profile likelihoods\n",
    "ays = np.arange(PRIOR_LIMITS[0,0], PRIOR_LIMITS[0,1]+0.001, 1.0)\n",
    "lpls = np.zeros_like(ays)\n",
    "for k, ai in enumerate(ays):\n",
    "    lpls[k] = log_profile_like(ai, 0, X, ys, ivars)\n",
    "profile_like_ratios = np.exp(lpls - np.max(lpls))\n",
    "plt.plot(ays, profile_like_ratios, color=\"k\")\n",
    "plt.xlim(PRIOR_LIMITS[0])\n",
    "plt.xlabel(r\"$\\theta$\")\n",
    "plt.ylim(-0.1, 1.1)\n",
    "plt.ylabel(\"ratio to maximum\")\n",
    "plt.axhline(0., color=\"k\", lw=0.5, alpha=0.5)\n",
    "plt.title(r\"profile likelihood for $\\theta$\")\n",
    "plt.savefig(\"profile_likelihood.png\", dpi=200)"
   ]
  },
  {
   "cell_type": "code",
   "execution_count": null,
   "id": "70ac4d73-0070-4951-9fbc-48ecc1d6d948",
   "metadata": {},
   "outputs": [],
   "source": [
    "# make posterior sampling\n",
    "nwalkers, nsample = 100, 10000\n",
    "p0 = 0.01 * RNG.normal(size=(nwalkers, P))\n",
    "sampler = emcee.EnsembleSampler(nwalkers, P, log_post, args=[X, ys, ivars])\n",
    "state = sampler.run_mcmc(p0, 1000) # burn in\n",
    "sampler.reset()\n",
    "state = sampler.run_mcmc(state, nsample)"
   ]
  },
  {
   "cell_type": "code",
   "execution_count": null,
   "id": "c3a639ab-295a-4107-9dd6-a37b8440811a",
   "metadata": {},
   "outputs": [],
   "source": [
    "# plot all-parameters posterior sampling\n",
    "a_samples = sampler.get_chain(flat=True)\n",
    "f = plt.figure(figsize=(10, 10))\n",
    "ff = corner.corner(a_samples,\n",
    "                   range=PRIOR_LIMITS,\n",
    "                   labels=(r\"$\\theta$\", ) + tuple((r\"$\\alpha_{}$\".format(p) for p in range(1,P))),\n",
    "                   fig=f)\n",
    "plt.savefig(\"posterior_full.png\", dpi=200)"
   ]
  },
  {
   "cell_type": "code",
   "execution_count": null,
   "id": "b5377362-26ec-490f-86b9-a92c9474212a",
   "metadata": {},
   "outputs": [],
   "source": [
    "# plot parameter-of-interest posterior\n",
    "post, _ = np.histogram(a_samples[:,0], bins=ays, density=True)\n",
    "print(post)\n",
    "plt.step(0.5 * (ays[1:] + ays[:-1]), post, where=\"mid\", color=\"k\")\n",
    "plt.xlabel(r\"$\\theta$\")\n",
    "plt.xlim(PRIOR_LIMITS[0])\n",
    "plt.ylabel(\"numerically estimated pdf\")\n",
    "plt.ylim(-0.1 * np.max(post), 1.1 * np.max(post))\n",
    "plt.axhline(0., color=\"k\", lw=0.5, alpha=0.5)\n",
    "plt.title(r\"posterior pdf for $\\theta$\")\n",
    "plt.savefig(\"posterior.png\", dpi=200)"
   ]
  },
  {
   "cell_type": "code",
   "execution_count": null,
   "id": "89a704af-92d8-4845-8e6a-c450aaf00ebd",
   "metadata": {},
   "outputs": [],
   "source": []
  }
 ],
 "metadata": {
  "kernelspec": {
   "display_name": "Python 3 (ipykernel)",
   "language": "python",
   "name": "python3"
  },
  "language_info": {
   "codemirror_mode": {
    "name": "ipython",
    "version": 3
   },
   "file_extension": ".py",
   "mimetype": "text/x-python",
   "name": "python",
   "nbconvert_exporter": "python",
   "pygments_lexer": "ipython3",
   "version": "3.9.6"
  }
 },
 "nbformat": 4,
 "nbformat_minor": 5
}
