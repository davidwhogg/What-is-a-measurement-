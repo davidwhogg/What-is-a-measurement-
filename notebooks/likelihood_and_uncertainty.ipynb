{
 "cells": [
  {
   "cell_type": "markdown",
   "id": "22a05995-bc31-4d73-8dc9-da10374186dc",
   "metadata": {},
   "source": [
    "# Likelihood and uncertainty\n",
    "A notebook to illustrate the relationships between the likelihood function and different uncertainty estimates.\n",
    "\n",
    "## Authors:\n",
    "**David W. Hogg** (NYU)\n",
    "\n",
    "## License:\n",
    "- Copyright 2025 the author. All code is licensed for re-use under the open-source *MIT License*.\n",
    "\n",
    "## Notes:\n",
    "- Some overlap with `basic_inference_example.ipynb`.\n",
    "\n",
    "## To-do:\n",
    "- Make all plots consistent across all noteboooks, so they are publication-ready.\n",
    "\n",
    "## Bugs:\n",
    "- Various things hard-coded."
   ]
  },
  {
   "cell_type": "code",
   "execution_count": null,
   "id": "4ac4412d-6142-41ca-ade4-da4f5c2a4935",
   "metadata": {},
   "outputs": [],
   "source": [
    "import numpy as np\n",
    "import pylab as plt\n",
    "from matplotlib import rcParams\n",
    "import scipy.optimize as op"
   ]
  },
  {
   "cell_type": "code",
   "execution_count": null,
   "id": "89138938-1680-46ed-a61d-f7ac60afa1d9",
   "metadata": {},
   "outputs": [],
   "source": [
    "rcParams['figure.figsize'] = [4.0, 4.0]"
   ]
  },
  {
   "cell_type": "code",
   "execution_count": null,
   "id": "89155368-f813-4e8e-8ba1-828630a50312",
   "metadata": {},
   "outputs": [],
   "source": [
    "# set default global stuff (apologies)\n",
    "\n",
    "N = 16\n",
    "p = 2\n",
    "prior_bounds = np.array([[1., 2.], [0., 2. * np.pi]])\n",
    "assert prior_bounds.shape == (p, 2)\n",
    "true_omega = 2.13 # hard-coded global magic variable"
   ]
  },
  {
   "cell_type": "code",
   "execution_count": null,
   "id": "ca949782-e14e-44ed-9987-98ee96234790",
   "metadata": {},
   "outputs": [],
   "source": [
    "# make fake data\n",
    "\n",
    "def expectation(ts, pars):\n",
    "    amp, phi = pars\n",
    "    return amp * np.cos(true_omega * ts - phi)\n",
    "\n",
    "def make_fake_data(seed=17):\n",
    "    rng = np.random.default_rng(seed)\n",
    "    ts = np.sort(7. * rng.uniform(size=N))\n",
    "    ivars = 0.5 + 0.5 * rng.uniform(size=N)\n",
    "    truepars = np.zeros(p) + np.nan\n",
    "    for i in range(p):\n",
    "        truepars[i] = rng.uniform(low=prior_bounds[i,0],\n",
    "                                  high=prior_bounds[i,1])\n",
    "    return ts, expectation(ts, truepars) + rng.normal(size=N) / np.sqrt(ivars), ivars, truepars"
   ]
  },
  {
   "cell_type": "code",
   "execution_count": null,
   "id": "22210437-68b3-4e8b-b141-cfa3bcaeff52",
   "metadata": {},
   "outputs": [],
   "source": [
    "ts, ys, ivars, true_pars = make_fake_data()\n",
    "print(ts.shape, ys.shape, true_pars)"
   ]
  },
  {
   "cell_type": "code",
   "execution_count": null,
   "id": "5d66e977-3e77-4fe8-b140-aca108a16569",
   "metadata": {},
   "outputs": [],
   "source": [
    "def plot(ts, ys, ivars, true_pars, ml_pars, samples, title):\n",
    "    plt.errorbar(ts, ys, yerr=1./np.sqrt(ivars), fmt=\"ko\")\n",
    "    plot_ts = np.linspace(0., 7., 1000)\n",
    "    if samples is not None:\n",
    "        for sample in samples:\n",
    "            plt.plot(plot_ts, expectation(plot_ts, sample), \"r-\", lw=1, alpha=0.45)\n",
    "    if true_pars is not None:\n",
    "        plt.plot(plot_ts, expectation(plot_ts, true_pars), \"b-\", lw=1, alpha=0.45)\n",
    "    if ml_pars is not None:\n",
    "        plt.plot(plot_ts, expectation(plot_ts, ml_pars), \"r-\", lw=2, alpha=0.9)\n",
    "    plt.xlabel(\"time\")\n",
    "    plt.ylabel(\"data value\")\n",
    "    plt.title(title)\n",
    "\n",
    "plot(ts, ys, ivars, true_pars, None, None, \"data and true expectation\")"
   ]
  },
  {
   "cell_type": "code",
   "execution_count": null,
   "id": "54887bba-fb75-4336-9fae-306c5014565e",
   "metadata": {},
   "outputs": [],
   "source": [
    "# define likelihood in terms of phase\n",
    "\n",
    "def negative_log_likelihood(pars, ts, ys, ivars):\n",
    "    return 0.5 * np.sum(ivars * (ys - expectation(ts, pars)) ** 2)"
   ]
  },
  {
   "cell_type": "code",
   "execution_count": null,
   "id": "7c339419-b856-4638-b7fc-a017b45dbdde",
   "metadata": {},
   "outputs": [],
   "source": [
    "res = op.minimize(negative_log_likelihood, true_pars, args=(ts, ys, ivars))\n",
    "print(res)\n",
    "ml_pars = np.zeros(4) + np.nan\n",
    "ml_pars_covar = np.zeros((4,4)) + np.nan\n",
    "if res.success:\n",
    "    ml_pars = res.x\n",
    "    ml_pars_covar = res.hess_inv\n",
    "print(ml_pars)"
   ]
  },
  {
   "cell_type": "code",
   "execution_count": null,
   "id": "38eaf9d5-14d7-49ec-9fec-a844b222f0ff",
   "metadata": {},
   "outputs": [],
   "source": [
    "plot(ts, ys, ivars, true_pars, ml_pars, None, \"maximum-likelihood estimate\")"
   ]
  },
  {
   "cell_type": "code",
   "execution_count": null,
   "id": "4fedf5ad-08af-4d27-b73e-1adf4eded73a",
   "metadata": {},
   "outputs": [],
   "source": [
    "# define functions in terms of amplitudes\n",
    "\n",
    "def design_matrix(ts):\n",
    "    return np.vstack([np.cos(true_omega * ts), np.sin(true_omega * ts)]).T\n",
    "\n",
    "def ml_amplitudes(ts, ys, ivars):\n",
    "    X = design_matrix(ts)\n",
    "    return np.linalg.solve(X.T @ (ivars[:, None] * X), X.T @ (ivars * ys))"
   ]
  },
  {
   "cell_type": "code",
   "execution_count": null,
   "id": "68c4fd91-ddcb-4b92-a9e9-817408c65354",
   "metadata": {},
   "outputs": [],
   "source": [
    "# check that everyone is cool\n",
    "\n",
    "a1, b1 = ml_amplitudes(ts, ys, ivars)\n",
    "schml_pars = np.array([np.sqrt(a1 ** 2 + b1 ** 2), np.arctan2(b1, a1)])\n",
    "print(schml_pars, np.allclose(ml_pars, schml_pars))"
   ]
  },
  {
   "cell_type": "code",
   "execution_count": null,
   "id": "56263c5b-bde5-4eda-ba8c-ab14b5790677",
   "metadata": {},
   "outputs": [],
   "source": [
    "\"dm = 0.2\\n\",\n",
    "-    \"mlim = (-5., 15.)\\n\",\n",
    "-    \"mvec = np.arange(mlim[0] + 0.5 * dm, mlim[1], dm)\\n\",\n",
    "-    \"dv = 0.5\\n\",\n",
    "-    \"vlim = (0., 20.)\\n\",\n",
    "-    \"vvec = np.arange(vlim[0] + 0.5 * dv, vlim[1], dv)\\n\",\n",
    "-    \"print(mvec.shape, vvec.shape)\\n\",\n",
    "-    \"ms, vs = np.meshgrid(mvec, vvec)\\n\",\n",
    "-    \"lls = np.zeros_like(ms) + np.nan\\n\",\n",
    "-    \"for i in range(lls.shape[0]):\\n\",\n",
    "-    \"    for j in range(lls.shape[1]):\\n\",\n",
    "-    \"        lls[i, j] = log_likelihood((ms[i, j], vs[i, j]), data)\\n\",\n",
    "-    \"print(lls)\""
   ]
  },
  {
   "cell_type": "code",
   "execution_count": null,
   "id": "5b92d6bc-8c73-4390-b8aa-efe79de1f611",
   "metadata": {},
   "outputs": [],
   "source": [
    "\"mlls = np.max(lls)\\n\",\n",
    "-    \"plt.imshow(lls, interpolation=\\\"nearest\\\", extent=mlim + vlim,\\n\",\n",
    "-    \"           vmin=mlls - 10., vmax = mlls)\\n\",\n",
    "-    \"plt.xlabel(\\\"mean\\\")\\n\",\n",
    "-    \"plt.ylabel(\\\"variance\\\")\""
   ]
  }
 ],
 "metadata": {
  "kernelspec": {
   "display_name": "Python 3 (ipykernel)",
   "language": "python",
   "name": "python3"
  },
  "language_info": {
   "codemirror_mode": {
    "name": "ipython",
    "version": 3
   },
   "file_extension": ".py",
   "mimetype": "text/x-python",
   "name": "python",
   "nbconvert_exporter": "python",
   "pygments_lexer": "ipython3",
   "version": "3.9.6"
  }
 },
 "nbformat": 4,
 "nbformat_minor": 5
}
