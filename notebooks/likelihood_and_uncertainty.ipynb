{
 "cells": [
  {
   "cell_type": "markdown",
   "id": "22a05995-bc31-4d73-8dc9-da10374186dc",
   "metadata": {},
   "source": [
    "# Likelihood and uncertainty\n",
    "A notebook to illustrate the relationships between the likelihood function and different uncertainty estimates.\n",
    "\n",
    "## Authors:\n",
    "**David W. Hogg** (NYU)\n",
    "\n",
    "## License:\n",
    "- Copyright 2025 the author. All code is licensed for re-use under the open-source *MIT License*.\n",
    "\n",
    "## Notes:\n",
    "- Some overlap with `basic_inference_example.ipynb`.\n",
    "\n",
    "## To-do:\n",
    "- Make all plots consistent across all noteboooks, so they are publication-ready.\n",
    "\n",
    "## Bugs:\n",
    "- Various things hard-coded.\n",
    "- Plots of uncertainty contours and LLF images have repeated code."
   ]
  },
  {
   "cell_type": "code",
   "execution_count": null,
   "id": "4ac4412d-6142-41ca-ade4-da4f5c2a4935",
   "metadata": {},
   "outputs": [],
   "source": [
    "import jax\n",
    "import jax.numpy as jnp\n",
    "import numpy.random as random\n",
    "import pylab as plt\n",
    "from matplotlib import rcParams\n",
    "import scipy.optimize as op"
   ]
  },
  {
   "cell_type": "code",
   "execution_count": null,
   "id": "5ebde55d-4183-4001-a3e5-162a9a46e1af",
   "metadata": {},
   "outputs": [],
   "source": [
    "jax.config.update(\"jax_enable_x64\", True)"
   ]
  },
  {
   "cell_type": "code",
   "execution_count": null,
   "id": "89138938-1680-46ed-a61d-f7ac60afa1d9",
   "metadata": {},
   "outputs": [],
   "source": [
    "rcParams['figure.figsize'] = [4.0, 4.0]"
   ]
  },
  {
   "cell_type": "code",
   "execution_count": null,
   "id": "89155368-f813-4e8e-8ba1-828630a50312",
   "metadata": {},
   "outputs": [],
   "source": [
    "# set default global stuff (apologies)\n",
    "\n",
    "N = 7\n",
    "p = 2\n",
    "prior_bounds = jnp.array([[1., 1.5 * jnp.pi], [0., 2. * jnp.pi]])\n",
    "assert prior_bounds.shape == (p, 2)\n",
    "true_omega = 2.13 # hard-coded global magic variable"
   ]
  },
  {
   "cell_type": "code",
   "execution_count": null,
   "id": "ca949782-e14e-44ed-9987-98ee96234790",
   "metadata": {},
   "outputs": [],
   "source": [
    "# make fake data\n",
    "\n",
    "def expectation(ts, pars):\n",
    "    amp, phi = pars\n",
    "    return amp * jnp.cos(true_omega * ts - phi)\n",
    "\n",
    "def make_fake_data(seed=17):\n",
    "    rng = random.default_rng(seed)\n",
    "    ts = jnp.sort(7. * rng.uniform(size=N))\n",
    "    ivars = 0.25 * jnp.array(1. + 1. * rng.uniform(size=N)) # magic\n",
    "    truepars = jnp.array([2.59, 2.0344]) # magic\n",
    "    return ts, expectation(ts, truepars) + rng.normal(size=N) / jnp.sqrt(ivars), ivars, truepars\n",
    "\n",
    "ts, ys, ivars, true_pars = make_fake_data()\n",
    "print(ts.shape, ys.shape, true_pars)"
   ]
  },
  {
   "cell_type": "code",
   "execution_count": null,
   "id": "5d66e977-3e77-4fe8-b140-aca108a16569",
   "metadata": {},
   "outputs": [],
   "source": [
    "# plot data\n",
    "\n",
    "def plot(ts, ys, ivars, true_pars, ml_pars, samples, title):\n",
    "    plt.errorbar(ts, ys, yerr=1./jnp.sqrt(ivars), fmt=\"ko\")\n",
    "    plot_ts = jnp.linspace(0., 7., 1000)\n",
    "    if samples is not None:\n",
    "        for sample in samples:\n",
    "            plt.plot(plot_ts, expectation(plot_ts, sample), \"r-\", lw=1, alpha=0.45)\n",
    "    if true_pars is not None:\n",
    "        plt.plot(plot_ts, expectation(plot_ts, true_pars), \"b-\", lw=1, alpha=0.45)\n",
    "    if ml_pars is not None:\n",
    "        plt.plot(plot_ts, expectation(plot_ts, ml_pars), \"r-\", lw=2, alpha=0.9)\n",
    "    plt.xlabel(\"time\")\n",
    "    plt.ylabel(\"data value\")\n",
    "    plt.title(title)\n",
    "\n",
    "plot(ts, ys, ivars, true_pars, None, None, \"data and true expectation\")"
   ]
  },
  {
   "cell_type": "code",
   "execution_count": null,
   "id": "54887bba-fb75-4336-9fae-306c5014565e",
   "metadata": {},
   "outputs": [],
   "source": [
    "# define likelihood in terms of phase\n",
    "\n",
    "def negative_log_likelihood(pars, ts, ys, ivars):\n",
    "    return 0.5 * jnp.sum(ivars * (ys - expectation(ts, pars)) ** 2)"
   ]
  },
  {
   "cell_type": "code",
   "execution_count": null,
   "id": "7c339419-b856-4638-b7fc-a017b45dbdde",
   "metadata": {},
   "outputs": [],
   "source": [
    "res = op.minimize(negative_log_likelihood, true_pars, args=(ts, ys, ivars))\n",
    "print(res)\n",
    "ml_pars = jnp.zeros(p) + jnp.nan\n",
    "ml_pars_covar = jnp.zeros((p, p)) + jnp.nan\n",
    "if res.success:\n",
    "    ml_pars = res.x\n",
    "    ml_pars_covar = res.hess_inv\n",
    "ml_pars[1] = jnp.arctan2(jnp.sin(ml_pars[1]), jnp.cos(ml_pars[1])) # angle zero issues\n",
    "print(ml_pars)"
   ]
  },
  {
   "cell_type": "code",
   "execution_count": null,
   "id": "38eaf9d5-14d7-49ec-9fec-a844b222f0ff",
   "metadata": {},
   "outputs": [],
   "source": [
    "plot(ts, ys, ivars, true_pars, ml_pars, None, \"maximum-likelihood estimate\")"
   ]
  },
  {
   "cell_type": "code",
   "execution_count": null,
   "id": "4fedf5ad-08af-4d27-b73e-1adf4eded73a",
   "metadata": {},
   "outputs": [],
   "source": [
    "# define functions in terms of amplitudes\n",
    "\n",
    "def design_matrix(ts):\n",
    "    return jnp.vstack([jnp.cos(true_omega * ts), jnp.sin(true_omega * ts)]).T\n",
    "\n",
    "def ml_amplitudes(ts, ys, ivars):\n",
    "    X = design_matrix(ts)\n",
    "    return jnp.linalg.solve(X.T @ (ivars[:, None] * X), X.T @ (ivars * ys))\n",
    "\n",
    "def amps_to_pars(amps):\n",
    "    a, b = amps\n",
    "    return jnp.array([jnp.sqrt(a ** 2 + b ** 2), jnp.arctan2(b, a)])\n",
    "    \n",
    "def pars_to_amps(pars):\n",
    "    A, phi = pars\n",
    "    return jnp.array([A * jnp.cos(phi), A * jnp.sin(phi)])"
   ]
  },
  {
   "cell_type": "code",
   "execution_count": null,
   "id": "68c4fd91-ddcb-4b92-a9e9-817408c65354",
   "metadata": {},
   "outputs": [],
   "source": [
    "# check that everyone is cool\n",
    "\n",
    "ml_amps = ml_amplitudes(ts, ys, ivars)\n",
    "schml_pars = amps_to_pars(ml_amps)\n",
    "print(schml_pars, jnp.allclose(ml_pars, schml_pars))"
   ]
  },
  {
   "cell_type": "code",
   "execution_count": null,
   "id": "82cebfbd-a833-4a6e-9d5a-1970e28a7ee7",
   "metadata": {},
   "outputs": [],
   "source": [
    "# take second derivatives of the two formulations of the likelihood\n",
    "\n",
    "def negative_log_likelihood_pars(pars):\n",
    "    return negative_log_likelihood(pars, ts, ys, ivars)\n",
    "\n",
    "def negative_log_likelihood_amps(amps):\n",
    "    return negative_log_likelihood(amps_to_pars(amps), ts, ys, ivars)\n",
    "\n",
    "Cinv_pars = jax.hessian(negative_log_likelihood_pars)(ml_pars)\n",
    "Cinv_amps = jax.hessian(negative_log_likelihood_amps)(ml_amps)\n",
    "X = design_matrix(ts)\n",
    "print(Cinv_pars)\n",
    "print(Cinv_amps)\n",
    "print(jnp.allclose(X.T @ (ivars[:, None] * X), Cinv_amps))"
   ]
  },
  {
   "cell_type": "code",
   "execution_count": null,
   "id": "a8f191f2-7961-4bc7-b67a-99831d0d550b",
   "metadata": {},
   "outputs": [],
   "source": [
    "# invert hessians\n",
    "\n",
    "C_pars, C_amps = jnp.linalg.inv(Cinv_pars), jnp.linalg.inv(Cinv_amps)\n",
    "print(C_pars)\n",
    "print(C_amps)"
   ]
  },
  {
   "cell_type": "code",
   "execution_count": null,
   "id": "56263c5b-bde5-4eda-ba8c-ab14b5790677",
   "metadata": {},
   "outputs": [],
   "source": [
    "# make a likelihood image\n",
    "\n",
    "amplim = (0., 8.)\n",
    "ampvec = jnp.linspace(amplim[0], amplim[1], 301)\n",
    "philim = (0., 2. * jnp.pi)\n",
    "phivec = jnp.linspace(philim[0], philim[1], 301)\n",
    "amps, phis = jnp.meshgrid(ampvec, phivec)\n",
    "def foo(a, p):\n",
    "    return -1. * negative_log_likelihood((a, p), ts, ys, ivars)\n",
    "lls = jax.vmap(foo)(amps.flatten(), phis.flatten()).reshape(amps.shape)\n",
    "print(jnp.min(lls), jnp.max(lls))"
   ]
  },
  {
   "cell_type": "code",
   "execution_count": null,
   "id": "f4aecb3f-6473-404b-aaba-fc0fb61f0c22",
   "metadata": {},
   "outputs": [],
   "source": [
    "# code to draw ellipses\n",
    "\n",
    "def matrix_sqrt(C):\n",
    "    assert jnp.allclose(C, C.T)\n",
    "    w, v = jnp.linalg.eigh(C)\n",
    "    return jnp.sqrt(w)[:, None] * v\n",
    "\n",
    "def draw_ellipse(ax, center, C, **kwargs):\n",
    "    assert C.shape == (2, 2)\n",
    "    thetas = jnp.linspace(0., 2. * jnp.pi, 101)\n",
    "    xy = center[:, None] + matrix_sqrt(C).T @ jnp.vstack([jnp.cos(thetas), jnp.sin(thetas)])\n",
    "    ax.plot(xy[0], xy[1], **kwargs)\n",
    "    return ax"
   ]
  },
  {
   "cell_type": "code",
   "execution_count": null,
   "id": "5b92d6bc-8c73-4390-b8aa-efe79de1f611",
   "metadata": {},
   "outputs": [],
   "source": [
    "def plot_llf_image(xvec, yvec, lls, point=None, truepoint=None):\n",
    "    mlls = jnp.max(lls)\n",
    "    plt.imshow(jnp.exp(lls - mlls), interpolation=\"nearest\", origin=\"lower\",\n",
    "               extent=[min(xvec), max(xvec), min(yvec), max(yvec)],\n",
    "               vmin=0, vmax=1, cmap=\"gray_r\", aspect=\"auto\")\n",
    "    plt.contour(xvec, yvec, lls - mlls, origin=\"lower\",\n",
    "                levels=[-0.5,], colors=\"r\", linestyles=\"solid\", linewidths=0.5, alpha=0.9)\n",
    "    if point is not None:\n",
    "        plt.scatter([point[0], ], [point[1], ], marker=\"x\", c=\"r\",\n",
    "                    s=20., alpha=0.9)\n",
    "    if truepoint is not None:\n",
    "        plt.scatter([truepoint[0], ], [truepoint[1], ], marker=\"x\", c=\"b\",\n",
    "                    s=20., linewidths=0.5, alpha=0.5)\n",
    "    return plt.gca()\n",
    "\n",
    "ax = plot_llf_image(ampvec, phivec, lls, point=ml_pars, truepoint=true_pars)\n",
    "ax.set_xlabel(\"amplitude $A$\")\n",
    "ax.set_ylabel(\"phase $\\phi$\")\n",
    "ax.set_title(\"likelihood\")"
   ]
  },
  {
   "cell_type": "code",
   "execution_count": null,
   "id": "14337d48-5647-4b58-9c5f-3b471459452d",
   "metadata": {},
   "outputs": [],
   "source": [
    "# make another likelihood image\n",
    "\n",
    "ayvec = jnp.linspace(-amplim[1], amplim[1], 301)\n",
    "ays, bees = jnp.meshgrid(ayvec, ayvec)\n",
    "def foo(a, b):\n",
    "    return -1. * negative_log_likelihood(amps_to_pars((a, b)), ts, ys, ivars)\n",
    "lls2 = jax.vmap(foo)(ays.flatten(), bees.flatten()).reshape(ays.shape)\n",
    "print(jnp.min(lls2), jnp.max(lls2))"
   ]
  },
  {
   "cell_type": "code",
   "execution_count": null,
   "id": "d0a48d22-9545-44fc-af2e-52b5b3ed6261",
   "metadata": {},
   "outputs": [],
   "source": [
    "ax = plot_llf_image(ayvec, ayvec, lls2, point=ml_amps, truepoint=pars_to_amps(true_pars))\n",
    "ax.set_xlabel(\"cosine amplitude $a$\")\n",
    "ax.set_ylabel(\"sine amplitude $b$\")\n",
    "ax.set_title(\"likelihood\")"
   ]
  },
  {
   "cell_type": "code",
   "execution_count": null,
   "id": "c6a98434-efd1-4226-9b84-68bf621d17ac",
   "metadata": {},
   "outputs": [],
   "source": [
    "mlls = jnp.max(lls)\n",
    "plt.contour(ampvec, phivec, lls - mlls, origin=\"lower\",\n",
    "            levels=[-0.5,], colors=\"k\", linestyles=\"solid\", linewidths=0.5, alpha=0.9)\n",
    "plt.plot(jnp.zeros(2), jnp.zeros(2), \"k-\", linewidth=0.5, alpha=0.9, label=\"1-sigma region\")\n",
    "draw_ellipse(plt.gca(), ml_pars, C_pars, color=\"k\", linestyle=\"dashed\", linewidth=1.0, alpha=0.9,\n",
    "             label=\"2nd-derivative approximation $C$\")\n",
    "plt.scatter([ml_pars[0], ], [ml_pars[1], ], marker=\"x\", c=\"k\",\n",
    "            s=20., alpha=0.9)\n",
    "tiny = 0.03 * jnp.sqrt(C_pars[1, 1])\n",
    "badsigma = 1. / jnp.sqrt(Cinv_pars[0, 0])\n",
    "plt.plot([ml_pars[0] - badsigma, ml_pars[0] + badsigma], [ml_pars[1], ml_pars[1]], \"k\", lw=4.0, alpha=0.23,\n",
    "         label=r\"$\\pm([C^{-1}]_{0,\\!0})^{-1/2}$ (wrong)\")\n",
    "goodsigma = jnp.sqrt(C_pars[0, 0])\n",
    "plt.plot([ml_pars[0] - goodsigma, ml_pars[0] + goodsigma], [ml_pars[1], ml_pars[1]], \"k\", lw=1.0, alpha=0.9,\n",
    "         label=r\"$\\pm([C]_{0,\\!0})^{1/2}$\")\n",
    "plt.xlim(2, 6)\n",
    "plt.ylim(1, 4)\n",
    "plt.xlabel(\"amplitude $A$\")\n",
    "plt.ylabel(\"phase $\\phi$\")\n",
    "plt.title(\"zoom in on uncertainty contour\")\n",
    "plt.legend()"
   ]
  },
  {
   "cell_type": "code",
   "execution_count": null,
   "id": "0a4aa82a-c31d-41d8-919a-cec71ac33ff7",
   "metadata": {},
   "outputs": [],
   "source": [
    "mlls2 = jnp.max(lls2)\n",
    "plt.contour(ayvec, ayvec, lls2 - mlls2, origin=\"lower\",\n",
    "            levels=[-0.5,], colors=\"r\", linestyles=\"solid\", linewidths=0.5, alpha=0.9)\n",
    "draw_ellipse(plt.gca(), ml_amps, C_amps, color=\"r\", linestyle=\"dashed\", linewidth=1.5, alpha=0.45)\n",
    "plt.scatter([ml_amps[0], ], [ml_amps[1], ], marker=\"x\", c=\"r\",\n",
    "            s=20., alpha=0.9)\n",
    "plt.xlim(-4, 1)\n",
    "plt.ylim(1, 6)\n",
    "plt.xlabel(\"cosine amplitude $a$\")\n",
    "plt.ylabel(\"sine amplitude $b$\")\n",
    "plt.title(\"zoom in on uncertainty contour\")"
   ]
  },
  {
   "cell_type": "code",
   "execution_count": null,
   "id": "17aabac2-f5bf-49f8-a0f9-ba166d9c5bbf",
   "metadata": {},
   "outputs": [],
   "source": []
  }
 ],
 "metadata": {
  "kernelspec": {
   "display_name": "Python 3 (ipykernel)",
   "language": "python",
   "name": "python3"
  },
  "language_info": {
   "codemirror_mode": {
    "name": "ipython",
    "version": 3
   },
   "file_extension": ".py",
   "mimetype": "text/x-python",
   "name": "python",
   "nbconvert_exporter": "python",
   "pygments_lexer": "ipython3",
   "version": "3.9.6"
  }
 },
 "nbformat": 4,
 "nbformat_minor": 5
}
