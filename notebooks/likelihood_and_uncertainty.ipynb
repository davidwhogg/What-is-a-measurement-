{
 "cells": [
  {
   "cell_type": "markdown",
   "id": "22a05995-bc31-4d73-8dc9-da10374186dc",
   "metadata": {},
   "source": [
    "# Likelihood and uncertainty\n",
    "A notebook to illustrate the relationships between the likelihood function and different uncertainty estimates.\n",
    "\n",
    "## Authors:\n",
    "**David W. Hogg** (NYU)\n",
    "\n",
    "## License:\n",
    "- Copyright 2025 the author. All code is licensed for re-use under the open-source *MIT License*.\n",
    "\n",
    "## To-do:\n",
    "- Make something that works.\n",
    "- Make all plots consistent across all noteboooks, so they are publication-ready.\n",
    "\n",
    "## Bugs:\n",
    "- Something is wrong; LF doesn't go down properly at low variance."
   ]
  },
  {
   "cell_type": "code",
   "execution_count": null,
   "id": "4ac4412d-6142-41ca-ade4-da4f5c2a4935",
   "metadata": {},
   "outputs": [],
   "source": [
    "import numpy as np\n",
    "import pylab as plt\n",
    "from matplotlib import rcParams\n",
    "import scipy.optimize as op"
   ]
  },
  {
   "cell_type": "code",
   "execution_count": null,
   "id": "89138938-1680-46ed-a61d-f7ac60afa1d9",
   "metadata": {},
   "outputs": [],
   "source": [
    "rcParams['figure.figsize'] = [4.0, 4.0]"
   ]
  },
  {
   "cell_type": "code",
   "execution_count": null,
   "id": "0e906e65-6665-4f94-bfc9-1c0f39583db2",
   "metadata": {},
   "outputs": [],
   "source": [
    "# make fake data\n",
    "\n",
    "N = 23\n",
    "rng = np.random.default_rng(17) # most random number\n",
    "true_mean, true_var = np.sqrt(np.e) * np.pi, np.pi ** 2\n",
    "data = true_mean + np.sqrt(true_var) * rng.normal(size=N)"
   ]
  },
  {
   "cell_type": "code",
   "execution_count": null,
   "id": "0b32e213-88a7-4ff5-9afd-627582aad752",
   "metadata": {},
   "outputs": [],
   "source": [
    "# make likelihood function\n",
    "\n",
    "def ln_oned_gaussian(x, m, v):\n",
    "    return 0.0 - 0.5 * (x - m) ** 2 / v - 0.5 * np.log(2. * np.pi * v)\n",
    "\n",
    "def ln_poisson(xs, m, v):\n",
    "    return np.sum(ln_oned_gaussian(xs, m, v))\n",
    "\n",
    "def log_likelihood(pars, xs):\n",
    "    m, v = pars\n",
    "    return ln_poisson(xs, m, v)\n",
    "\n",
    "def negative_log_likelihood(pars, xs):\n",
    "    return -log_likelihood(pars, xs)"
   ]
  },
  {
   "cell_type": "code",
   "execution_count": null,
   "id": "19c08f21-f6e2-42ea-a71d-421c9c3c1992",
   "metadata": {},
   "outputs": [],
   "source": [
    "def plot_data(title, pars=None):\n",
    "    xlim = (-4., 14.)\n",
    "    plotx = np.linspace(*xlim, 1000)\n",
    "    if pars is not None:\n",
    "        m, v = pars\n",
    "        ys = np.exp(ln_oned_gaussian(plotx, m, v))\n",
    "        plt.plot(plotx, ys, \"r-\", lw=2.0, alpha=0.9)\n",
    "    truey = np.exp(ln_oned_gaussian(plotx, true_mean, true_var))\n",
    "    plt.plot(plotx, truey, \"b-\", lw=0.5, alpha=0.5)\n",
    "    _ = plt.hist(data, bins=32, color=\"k\", density=True)\n",
    "    plt.xlim(xlim)\n",
    "    plt.title(title)\n",
    "    plt.xlabel(\"x\")\n",
    "    plt.ylabel(\"fraction per x (density)\")"
   ]
  },
  {
   "cell_type": "code",
   "execution_count": null,
   "id": "3700c455-d7fa-477c-8543-32e90560d7fa",
   "metadata": {},
   "outputs": [],
   "source": [
    "plot_data(\"data\")"
   ]
  },
  {
   "cell_type": "code",
   "execution_count": null,
   "id": "477e8095-2d5e-4776-8b75-f45afcfd91a9",
   "metadata": {},
   "outputs": [],
   "source": [
    "# find maximum likelihood\n",
    "\n",
    "res = op.minimize(negative_log_likelihood, (true_mean, true_var), args=(data, ))\n",
    "print(res)\n",
    "ml_mean, ml_var = res.x"
   ]
  },
  {
   "cell_type": "code",
   "execution_count": null,
   "id": "c05b3b65-7855-465d-9f91-424e8b50ade4",
   "metadata": {},
   "outputs": [],
   "source": [
    "plot_data(\"maximum likelihood fit\", pars=(ml_mean, ml_var))"
   ]
  },
  {
   "cell_type": "code",
   "execution_count": null,
   "id": "01d2f960-201f-46d9-bf8f-f07f6c702907",
   "metadata": {},
   "outputs": [],
   "source": [
    "# make likelihood function image\n",
    "# bug: loop\n",
    "\n",
    "dm = 0.2\n",
    "mlim = (-5., 15.)\n",
    "mvec = np.arange(mlim[0] + 0.5 * dm, mlim[1], dm)\n",
    "dv = 0.5\n",
    "vlim = (0., 20.)\n",
    "vvec = np.arange(vlim[0] + 0.5 * dv, vlim[1], dv)\n",
    "print(mvec.shape, vvec.shape)\n",
    "ms, vs = np.meshgrid(mvec, vvec)\n",
    "lls = np.zeros_like(ms) + np.nan\n",
    "for i in range(lls.shape[0]):\n",
    "    for j in range(lls.shape[1]):\n",
    "        lls[i, j] = log_likelihood((ms[i, j], vs[i, j]), data)\n",
    "print(lls)"
   ]
  },
  {
   "cell_type": "code",
   "execution_count": null,
   "id": "24c63da9-2ce4-4684-aada-c08acf3b6816",
   "metadata": {},
   "outputs": [],
   "source": [
    "mlls = np.max(lls)\n",
    "plt.imshow(lls, interpolation=\"nearest\", extent=mlim + vlim,\n",
    "           vmin=mlls - 10., vmax = mlls)\n",
    "plt.xlabel(\"mean\")\n",
    "plt.ylabel(\"variance\")"
   ]
  },
  {
   "cell_type": "code",
   "execution_count": null,
   "id": "22210437-68b3-4e8b-b141-cfa3bcaeff52",
   "metadata": {},
   "outputs": [],
   "source": []
  }
 ],
 "metadata": {
  "kernelspec": {
   "display_name": "Python 3 (ipykernel)",
   "language": "python",
   "name": "python3"
  },
  "language_info": {
   "codemirror_mode": {
    "name": "ipython",
    "version": 3
   },
   "file_extension": ".py",
   "mimetype": "text/x-python",
   "name": "python",
   "nbconvert_exporter": "python",
   "pygments_lexer": "ipython3",
   "version": "3.9.6"
  }
 },
 "nbformat": 4,
 "nbformat_minor": 5
}
