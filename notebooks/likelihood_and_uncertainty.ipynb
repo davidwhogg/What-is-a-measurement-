{
 "cells": [
  {
   "cell_type": "markdown",
   "id": "22a05995-bc31-4d73-8dc9-da10374186dc",
   "metadata": {},
   "source": [
    "# Likelihood and uncertainty\n",
    "A notebook to illustrate the relationships between the likelihood function and different uncertainty estimates.\n",
    "\n",
    "## Authors:\n",
    "**David W. Hogg** (NYU)\n",
    "\n",
    "## License:\n",
    "- Copyright 2025 the author. All code is licensed for re-use under the open-source *MIT License*.\n",
    "\n",
    "## Notes:\n",
    "- Some overlap with `basic_inference_example.ipynb`.\n",
    "\n",
    "## To-do:\n",
    "- Make all plots consistent across all noteboooks, so they are publication-ready.\n",
    "\n",
    "## Bugs:\n",
    "- Various things hard-coded."
   ]
  },
  {
   "cell_type": "code",
   "execution_count": null,
   "id": "4ac4412d-6142-41ca-ade4-da4f5c2a4935",
   "metadata": {},
   "outputs": [],
   "source": [
    "import numpy as np\n",
    "import pylab as plt\n",
    "from matplotlib import rcParams\n",
    "import scipy.optimize as op"
   ]
  },
  {
   "cell_type": "code",
   "execution_count": null,
   "id": "89138938-1680-46ed-a61d-f7ac60afa1d9",
   "metadata": {},
   "outputs": [],
   "source": [
    "rcParams['figure.figsize'] = [4.0, 4.0]"
   ]
  },
  {
   "cell_type": "code",
   "execution_count": null,
   "id": "89155368-f813-4e8e-8ba1-828630a50312",
   "metadata": {},
   "outputs": [],
   "source": [
    "# set default global stuff (apologies)\n",
    "\n",
    "N = 7\n",
    "p = 2\n",
    "prior_bounds = np.array([[1., 1.5 * np.pi], [0., 2. * np.pi]])\n",
    "assert prior_bounds.shape == (p, 2)\n",
    "true_omega = 2.13 # hard-coded global magic variable"
   ]
  },
  {
   "cell_type": "code",
   "execution_count": null,
   "id": "ca949782-e14e-44ed-9987-98ee96234790",
   "metadata": {},
   "outputs": [],
   "source": [
    "# make fake data\n",
    "\n",
    "def expectation(ts, pars):\n",
    "    amp, phi = pars\n",
    "    return amp * np.cos(true_omega * ts - phi)\n",
    "\n",
    "def make_fake_data(seed=17):\n",
    "    rng = np.random.default_rng(seed)\n",
    "    ts = np.sort(7. * rng.uniform(size=N))\n",
    "    ivars = 0.25 * (1. + 1. * rng.uniform(size=N)) # magic\n",
    "    truepars = np.array([2.59, 2.0344]) # magic\n",
    "    return ts, expectation(ts, truepars) + rng.normal(size=N) / np.sqrt(ivars), ivars, truepars"
   ]
  },
  {
   "cell_type": "code",
   "execution_count": null,
   "id": "22210437-68b3-4e8b-b141-cfa3bcaeff52",
   "metadata": {},
   "outputs": [],
   "source": [
    "ts, ys, ivars, true_pars = make_fake_data()\n",
    "print(ts.shape, ys.shape, true_pars)"
   ]
  },
  {
   "cell_type": "code",
   "execution_count": null,
   "id": "5d66e977-3e77-4fe8-b140-aca108a16569",
   "metadata": {},
   "outputs": [],
   "source": [
    "def plot(ts, ys, ivars, true_pars, ml_pars, samples, title):\n",
    "    plt.errorbar(ts, ys, yerr=1./np.sqrt(ivars), fmt=\"ko\")\n",
    "    plot_ts = np.linspace(0., 7., 1000)\n",
    "    if samples is not None:\n",
    "        for sample in samples:\n",
    "            plt.plot(plot_ts, expectation(plot_ts, sample), \"r-\", lw=1, alpha=0.45)\n",
    "    if true_pars is not None:\n",
    "        plt.plot(plot_ts, expectation(plot_ts, true_pars), \"b-\", lw=1, alpha=0.45)\n",
    "    if ml_pars is not None:\n",
    "        plt.plot(plot_ts, expectation(plot_ts, ml_pars), \"r-\", lw=2, alpha=0.9)\n",
    "    plt.xlabel(\"time\")\n",
    "    plt.ylabel(\"data value\")\n",
    "    plt.title(title)\n",
    "\n",
    "plot(ts, ys, ivars, true_pars, None, None, \"data and true expectation\")"
   ]
  },
  {
   "cell_type": "code",
   "execution_count": null,
   "id": "54887bba-fb75-4336-9fae-306c5014565e",
   "metadata": {},
   "outputs": [],
   "source": [
    "# define likelihood in terms of phase\n",
    "\n",
    "def negative_log_likelihood(pars, ts, ys, ivars):\n",
    "    return 0.5 * np.sum(ivars * (ys - expectation(ts, pars)) ** 2)"
   ]
  },
  {
   "cell_type": "code",
   "execution_count": null,
   "id": "7c339419-b856-4638-b7fc-a017b45dbdde",
   "metadata": {},
   "outputs": [],
   "source": [
    "res = op.minimize(negative_log_likelihood, true_pars, args=(ts, ys, ivars))\n",
    "print(res)\n",
    "ml_pars = np.zeros(4) + np.nan\n",
    "ml_pars_covar = np.zeros((4,4)) + np.nan\n",
    "if res.success:\n",
    "    ml_pars = res.x\n",
    "    ml_pars_covar = res.hess_inv\n",
    "ml_pars[1] = np.arctan2(np.sin(ml_pars[1]), np.cos(ml_pars[1]))\n",
    "print(ml_pars)"
   ]
  },
  {
   "cell_type": "code",
   "execution_count": null,
   "id": "38eaf9d5-14d7-49ec-9fec-a844b222f0ff",
   "metadata": {},
   "outputs": [],
   "source": [
    "plot(ts, ys, ivars, true_pars, ml_pars, None, \"maximum-likelihood estimate\")"
   ]
  },
  {
   "cell_type": "code",
   "execution_count": null,
   "id": "4fedf5ad-08af-4d27-b73e-1adf4eded73a",
   "metadata": {},
   "outputs": [],
   "source": [
    "# define functions in terms of amplitudes\n",
    "\n",
    "def design_matrix(ts):\n",
    "    return np.vstack([np.cos(true_omega * ts), np.sin(true_omega * ts)]).T\n",
    "\n",
    "def ml_amplitudes(ts, ys, ivars):\n",
    "    X = design_matrix(ts)\n",
    "    return np.linalg.solve(X.T @ (ivars[:, None] * X), X.T @ (ivars * ys))\n",
    "\n",
    "def amps_to_pars(amps):\n",
    "    a, b = amps\n",
    "    return np.array([np.sqrt(a ** 2 + b ** 2), np.arctan2(b, a)])"
   ]
  },
  {
   "cell_type": "code",
   "execution_count": null,
   "id": "68c4fd91-ddcb-4b92-a9e9-817408c65354",
   "metadata": {},
   "outputs": [],
   "source": [
    "# check that everyone is cool\n",
    "\n",
    "ml_amps = ml_amplitudes(ts, ys, ivars)\n",
    "schml_pars = amps_to_pars(ml_amps)\n",
    "print(schml_pars, np.allclose(ml_pars, schml_pars))"
   ]
  },
  {
   "cell_type": "code",
   "execution_count": null,
   "id": "56263c5b-bde5-4eda-ba8c-ab14b5790677",
   "metadata": {},
   "outputs": [],
   "source": [
    "# make a likelihood image\n",
    "# bug: loop\n",
    "\n",
    "damp = 0.03\n",
    "dphi = 0.03\n",
    "amplim = (0., 8.)\n",
    "ampvec = np.arange(amplim[0] + 0.5 * damp, amplim[1], damp)\n",
    "philim = (0., 2. * np.pi)\n",
    "phivec = np.arange(philim[0] + 0.5 * dphi, philim[1], dphi)\n",
    "print(ampvec.shape, phivec.shape)\n",
    "amps, phis = np.meshgrid(ampvec, phivec)\n",
    "lls = np.zeros_like(amps) + np.nan\n",
    "for i in range(lls.shape[0]):\n",
    "    for j in range(lls.shape[1]):\n",
    "        lls[i, j] = - negative_log_likelihood((amps[i, j], phis[i, j]), ts, ys, ivars)\n",
    "print(np.min(lls), np.max(lls))"
   ]
  },
  {
   "cell_type": "code",
   "execution_count": null,
   "id": "5b92d6bc-8c73-4390-b8aa-efe79de1f611",
   "metadata": {},
   "outputs": [],
   "source": [
    "mlls = np.max(lls)\n",
    "plt.imshow(np.exp(lls - mlls), interpolation=\"nearest\", origin=\"lower\",\n",
    "           extent=amplim+philim,\n",
    "           vmin=0, vmax=1, cmap=\"gray_r\", aspect=\"auto\")\n",
    "plt.contour(ampvec, phivec, lls - mlls, origin=\"lower\",\n",
    "            levels=[-1.,], colors=\"r\", linestyles=\"solid\", linewidths=0.5, alpha=0.9)\n",
    "plt.scatter([ml_pars[0], ], [ml_pars[1], ], marker=\"x\", c=\"r\",\n",
    "            s=20., alpha=0.9)\n",
    "plt.scatter([true_pars[0], ], [true_pars[1], ], marker=\"x\", c=\"b\",\n",
    "            s=20., linewidths=0.5, alpha=0.5)\n",
    "plt.xlabel(\"amplitude $A$\")\n",
    "plt.ylabel(\"phase $\\phi$\")"
   ]
  },
  {
   "cell_type": "code",
   "execution_count": null,
   "id": "14337d48-5647-4b58-9c5f-3b471459452d",
   "metadata": {},
   "outputs": [],
   "source": [
    "ayvec = np.arange(-amplim[1] + 0.5 * damp, amplim[1], damp)\n",
    "ays, bees = np.meshgrid(ayvec, ayvec)\n",
    "lls2 = np.zeros_like(ays) + np.nan\n",
    "for i in range(lls2.shape[0]):\n",
    "    for j in range(lls2.shape[1]):\n",
    "        lls2[i, j] = - negative_log_likelihood(amps_to_pars((ays[i, j], bees[i, j])), ts, ys, ivars)\n",
    "print(np.min(lls2), np.max(lls2))"
   ]
  },
  {
   "cell_type": "code",
   "execution_count": null,
   "id": "d0a48d22-9545-44fc-af2e-52b5b3ed6261",
   "metadata": {},
   "outputs": [],
   "source": [
    "mlls2 = np.max(lls2)\n",
    "plt.imshow(np.exp(lls2 - mlls2), interpolation=\"nearest\", origin=\"lower\",\n",
    "           extent=[-amplim[1], amplim[1], -amplim[1], amplim[1]],\n",
    "           vmin=0, vmax=1, cmap=\"gray_r\", aspect=\"auto\")\n",
    "plt.contour(ayvec, ayvec, lls2 - mlls2, origin=\"lower\",\n",
    "            levels=[-1.,], colors=\"r\", linestyles=\"solid\", linewidths=0.5, alpha=0.9)\n",
    "plt.scatter([ml_amps[0], ], [ml_amps[1], ], marker=\"x\", c=\"r\",\n",
    "            s=20., alpha=0.9)\n",
    "plt.scatter([true_pars[0] * np.cos(true_pars[1]), ], [true_pars[0] * np.sin(true_pars[1]), ], marker=\"x\", c=\"b\",\n",
    "            s=20., linewidths=0.5, alpha=0.5)\n",
    "plt.xlabel(\"cosine amplitude $a$\")\n",
    "plt.ylabel(\"sine amplitude $b$\")"
   ]
  },
  {
   "cell_type": "code",
   "execution_count": null,
   "id": "82cebfbd-a833-4a6e-9d5a-1970e28a7ee7",
   "metadata": {},
   "outputs": [],
   "source": []
  }
 ],
 "metadata": {
  "kernelspec": {
   "display_name": "Python 3 (ipykernel)",
   "language": "python",
   "name": "python3"
  },
  "language_info": {
   "codemirror_mode": {
    "name": "ipython",
    "version": 3
   },
   "file_extension": ".py",
   "mimetype": "text/x-python",
   "name": "python",
   "nbconvert_exporter": "python",
   "pygments_lexer": "ipython3",
   "version": "3.9.6"
  }
 },
 "nbformat": 4,
 "nbformat_minor": 5
}
